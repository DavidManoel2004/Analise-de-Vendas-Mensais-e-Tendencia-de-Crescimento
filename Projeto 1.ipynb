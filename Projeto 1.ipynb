{
 "cells": [
  {
   "cell_type": "code",
   "execution_count": 5,
   "id": "7dda34c1",
   "metadata": {},
   "outputs": [],
   "source": [
    "import pandas as pd"
   ]
  },
  {
   "cell_type": "code",
   "execution_count": 6,
   "id": "9e95aa3c",
   "metadata": {},
   "outputs": [],
   "source": [
    "dados = pd.read_csv('ECOMNSA.csv')"
   ]
  },
  {
   "cell_type": "code",
   "execution_count": 7,
   "id": "e36b8233",
   "metadata": {},
   "outputs": [
    {
     "data": {
      "text/html": [
       "<div>\n",
       "<style scoped>\n",
       "    .dataframe tbody tr th:only-of-type {\n",
       "        vertical-align: middle;\n",
       "    }\n",
       "\n",
       "    .dataframe tbody tr th {\n",
       "        vertical-align: top;\n",
       "    }\n",
       "\n",
       "    .dataframe thead th {\n",
       "        text-align: right;\n",
       "    }\n",
       "</style>\n",
       "<table border=\"1\" class=\"dataframe\">\n",
       "  <thead>\n",
       "    <tr style=\"text-align: right;\">\n",
       "      <th></th>\n",
       "      <th>realtime_start</th>\n",
       "      <th>realtime_end</th>\n",
       "      <th>date</th>\n",
       "      <th>value</th>\n",
       "    </tr>\n",
       "  </thead>\n",
       "  <tbody>\n",
       "    <tr>\n",
       "      <th>0</th>\n",
       "      <td>2019-12-06</td>\n",
       "      <td>2019-12-06</td>\n",
       "      <td>1999-10-01</td>\n",
       "      <td>5241.0</td>\n",
       "    </tr>\n",
       "    <tr>\n",
       "      <th>1</th>\n",
       "      <td>2019-12-06</td>\n",
       "      <td>2019-12-06</td>\n",
       "      <td>2000-01-01</td>\n",
       "      <td>5553.0</td>\n",
       "    </tr>\n",
       "    <tr>\n",
       "      <th>2</th>\n",
       "      <td>2019-12-06</td>\n",
       "      <td>2019-12-06</td>\n",
       "      <td>2000-04-01</td>\n",
       "      <td>6059.0</td>\n",
       "    </tr>\n",
       "    <tr>\n",
       "      <th>3</th>\n",
       "      <td>2019-12-06</td>\n",
       "      <td>2019-12-06</td>\n",
       "      <td>2000-07-01</td>\n",
       "      <td>6892.0</td>\n",
       "    </tr>\n",
       "    <tr>\n",
       "      <th>4</th>\n",
       "      <td>2019-12-06</td>\n",
       "      <td>2019-12-06</td>\n",
       "      <td>2000-10-01</td>\n",
       "      <td>9104.0</td>\n",
       "    </tr>\n",
       "  </tbody>\n",
       "</table>\n",
       "</div>"
      ],
      "text/plain": [
       "  realtime_start realtime_end        date   value\n",
       "0     2019-12-06   2019-12-06  1999-10-01  5241.0\n",
       "1     2019-12-06   2019-12-06  2000-01-01  5553.0\n",
       "2     2019-12-06   2019-12-06  2000-04-01  6059.0\n",
       "3     2019-12-06   2019-12-06  2000-07-01  6892.0\n",
       "4     2019-12-06   2019-12-06  2000-10-01  9104.0"
      ]
     },
     "execution_count": 7,
     "metadata": {},
     "output_type": "execute_result"
    }
   ],
   "source": [
    "dados.head()"
   ]
  },
  {
   "cell_type": "code",
   "execution_count": 8,
   "id": "03f08c31",
   "metadata": {},
   "outputs": [],
   "source": [
    "dados.drop(columns=['realtime_start', 'realtime_end'], axis=1, inplace=True)"
   ]
  },
  {
   "cell_type": "code",
   "execution_count": 9,
   "id": "8b5a1012",
   "metadata": {},
   "outputs": [],
   "source": [
    "dados['date'] = pd.to_datetime(dados['date'])"
   ]
  },
  {
   "cell_type": "code",
   "execution_count": 10,
   "id": "30b00d90",
   "metadata": {},
   "outputs": [
    {
     "data": {
      "text/plain": [
       "0"
      ]
     },
     "execution_count": 10,
     "metadata": {},
     "output_type": "execute_result"
    }
   ],
   "source": [
    "dados.duplicated().sum()"
   ]
  },
  {
   "cell_type": "code",
   "execution_count": 11,
   "id": "e5b8bf5d",
   "metadata": {},
   "outputs": [
    {
     "data": {
      "text/plain": [
       "date     0\n",
       "value    0\n",
       "dtype: int64"
      ]
     },
     "execution_count": 11,
     "metadata": {},
     "output_type": "execute_result"
    }
   ],
   "source": [
    "dados.isna().sum()"
   ]
  },
  {
   "cell_type": "code",
   "execution_count": 12,
   "id": "30a8fc8c",
   "metadata": {},
   "outputs": [],
   "source": [
    "vendas_por_ano = dados.groupby(dados['date'].dt.year)['value'].sum()"
   ]
  },
  {
   "cell_type": "code",
   "execution_count": 13,
   "id": "60c4c467",
   "metadata": {},
   "outputs": [
    {
     "data": {
      "text/plain": [
       "<AxesSubplot:xlabel='date'>"
      ]
     },
     "execution_count": 13,
     "metadata": {},
     "output_type": "execute_result"
    },
    {
     "data": {
      "image/png": "[encoded data removed]",
      "text/plain": [
       "<Figure size 640x480 with 1 Axes>"
      ]
     },
     "metadata": {},
     "output_type": "display_data"
    }
   ],
   "source": [
    "vendas_por_ano.plot()"
   ]
  },
  {
   "cell_type": "code",
   "execution_count": 14,
   "id": "a3faf131",
   "metadata": {},
   "outputs": [],
   "source": [
    "crescimento_anual = vendas_por_ano.pct_change()"
   ]
  },
  {
   "cell_type": "code",
   "execution_count": 15,
   "id": "3a122b69",
   "metadata": {},
   "outputs": [
    {
     "name": "stdout",
     "output_type": "stream",
     "text": [
      "date\n",
      "1999         NaN\n",
      "2000    4.267697\n",
      "2001    0.240945\n",
      "2002    0.302481\n",
      "2003    0.280842\n",
      "2004    0.270178\n",
      "2005    0.258826\n",
      "2006    0.240155\n",
      "2007    0.204140\n",
      "2008    0.037532\n",
      "2009    0.027650\n",
      "2010    0.167786\n",
      "2011    0.178565\n",
      "2012    0.158092\n",
      "2013    0.136782\n",
      "2014    0.149359\n",
      "2015    0.145008\n",
      "2016    0.145092\n",
      "2017    0.160397\n",
      "2018    0.135803\n",
      "2019   -0.208619\n",
      "Name: value, dtype: float64\n"
     ]
    }
   ],
   "source": [
    "print(crescimento_anual)"
   ]
  },
  {
   "cell_type": "code",
   "execution_count": 16,
   "id": "3b3223fb",
   "metadata": {},
   "outputs": [],
   "source": [
    "media_crescimento_antes_2017 = crescimento_anual.loc[:2017].mean()"
   ]
  },
  {
   "cell_type": "code",
   "execution_count": 17,
   "id": "7705adc0",
   "metadata": {},
   "outputs": [],
   "source": [
    "media_crescimento_depois_2017 = crescimento_anual.loc[2018:].mean()"
   ]
  },
  {
   "cell_type": "code",
   "execution_count": 18,
   "id": "c2d974c7",
   "metadata": {},
   "outputs": [
    {
     "name": "stdout",
     "output_type": "stream",
     "text": [
      "0.4095293154289346\n"
     ]
    }
   ],
   "source": [
    "print(media_crescimento_antes_2017)"
   ]
  },
  {
   "cell_type": "code",
   "execution_count": 19,
   "id": "00fe3161",
   "metadata": {},
   "outputs": [
    {
     "name": "stdout",
     "output_type": "stream",
     "text": [
      "-0.036407699744794186\n"
     ]
    }
   ],
   "source": [
    "print(media_crescimento_depois_2017)"
   ]
  },
  {
   "cell_type": "code",
   "execution_count": 23,
   "id": "8c3721e6",
   "metadata": {},
   "outputs": [],
   "source": [
    "# 1. Agrega o valor total de vendas por cada mês/ano\n",
    "vendas_mensais = dados.groupby(dados['date'].dt.to_period('M'))['value'].sum()\n",
    "\n",
    "# 2. Calcula a variação percentual do valor de um mês para o outro\n",
    "crescimento_mensal = vendas_mensais.pct_change()"
   ]
  },
  {
   "cell_type": "code",
   "execution_count": 26,
   "id": "1f326b93",
   "metadata": {},
   "outputs": [
    {
     "name": "stdout",
     "output_type": "stream",
     "text": [
      "date\n",
      "1999-10         NaN\n",
      "2000-01    0.059531\n",
      "2000-04    0.091122\n",
      "2000-07    0.137481\n",
      "2000-10    0.320952\n",
      "             ...   \n",
      "2018-07    0.010412\n",
      "2018-10    0.295297\n",
      "2019-01   -0.198137\n",
      "2019-04    0.082409\n",
      "2019-07    0.043631\n",
      "Freq: M, Name: value, Length: 80, dtype: float64\n"
     ]
    }
   ],
   "source": [
    "print(crescimento_mensal)"
   ]
  },
  {
   "cell_type": "code",
   "execution_count": 25,
   "id": "9eaa70a1",
   "metadata": {},
   "outputs": [
    {
     "name": "stdout",
     "output_type": "stream",
     "text": [
      "date\n",
      "1999-10      5241.0\n",
      "2000-01      5553.0\n",
      "2000-04      6059.0\n",
      "2000-07      6892.0\n",
      "2000-10      9104.0\n",
      "             ...   \n",
      "2018-07    124214.0\n",
      "2018-10    160894.0\n",
      "2019-01    129015.0\n",
      "2019-04    139647.0\n",
      "2019-07    145740.0\n",
      "Freq: M, Name: value, Length: 80, dtype: float64\n"
     ]
    }
   ],
   "source": [
    "print(vendas_mensais)"
   ]
  },
  {
   "cell_type": "code",
   "execution_count": 27,
   "id": "ef7b28c2",
   "metadata": {},
   "outputs": [
    {
     "name": "stdout",
     "output_type": "stream",
     "text": [
      "date     2018-10-01 00:00:00\n",
      "value               160894.0\n",
      "Name: 76, dtype: object\n"
     ]
    }
   ],
   "source": [
    "# 1. Encontra o endereço (índice) da maior venda\n",
    "indice_max = dados['value'].idxmax()\n",
    "\n",
    "# 2. Usa o endereço para ver a linha completa\n",
    "maior_venda = dados.loc[indice_max]\n",
    "\n",
    "print(maior_venda)"
   ]
  },
  {
   "cell_type": "code",
   "execution_count": null,
   "id": "67d48a1a",
   "metadata": {},
   "outputs": [],
   "source": []
  }
 ],
 "metadata": {
  "kernelspec": {
   "display_name": "Python 3 (ipykernel)",
   "language": "python",
   "name": "python3"
  },
  "language_info": {
   "codemirror_mode": {
    "name": "ipython",
    "version": 3
   },
   "file_extension": ".py",
   "mimetype": "text/x-python",
   "name": "python",
   "nbconvert_exporter": "python",
   "pygments_lexer": "ipython3",
   "version": "3.9.13"
  }
 },
 "nbformat": 4,
 "nbformat_minor": 5
}
